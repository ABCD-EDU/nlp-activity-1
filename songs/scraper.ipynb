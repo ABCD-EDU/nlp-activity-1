{
 "cells": [
  {
   "cell_type": "code",
   "execution_count": 30,
   "metadata": {},
   "outputs": [],
   "source": [
    "import requests\n",
    "from bs4 import BeautifulSoup\n",
    "import csv"
   ]
  },
  {
   "cell_type": "code",
   "execution_count": 31,
   "metadata": {},
   "outputs": [],
   "source": [
    "BASE_URL = \"https://pinoyopmlovesongs.com/category/opm-song-lyrics/page/\""
   ]
  },
  {
   "cell_type": "code",
   "execution_count": 32,
   "metadata": {},
   "outputs": [
    {
     "name": "stdout",
     "output_type": "stream",
     "text": [
      "page 1\n",
      "page 2\n",
      "page 3\n",
      "page 4\n",
      "page 5\n",
      "page 6\n",
      "page 7\n",
      "page 8\n",
      "page 9\n",
      "page 10\n",
      "page 11\n",
      "page 12\n",
      "page 13\n",
      "page 14\n",
      "page 15\n",
      "page 16\n",
      "page 17\n",
      "page 18\n",
      "page 19\n",
      "page 20\n",
      "page 21\n"
     ]
    }
   ],
   "source": [
    "links = []\n",
    "for x in range(1,22):\n",
    "    print(\"page \" + str(x))\n",
    "    response = requests.get(f\"{BASE_URL}/{x}\")\n",
    "    soup = BeautifulSoup(response.content, \"html.parser\")\n",
    "    parent_div = soup.find(\"ul\", {\"class\": \"archive-list\"})\n",
    "    image_containers = parent_div.find_all(\"div\", {\"class\":\"archive-image\"})\n",
    "    for container in image_containers:\n",
    "        links.append(container.find(\"a\")[\"href\"])"
   ]
  },
  {
   "cell_type": "code",
   "execution_count": 35,
   "metadata": {},
   "outputs": [],
   "source": [
    "blacklist = []\n",
    "with open(\"./blacklist.txt\") as f:\n",
    "    for line in f:\n",
    "        blacklist.append(line.strip())"
   ]
  },
  {
   "cell_type": "code",
   "execution_count": 40,
   "metadata": {},
   "outputs": [],
   "source": [
    "english_links = [i for i in links if i not in blacklist]"
   ]
  },
  {
   "cell_type": "code",
   "execution_count": 97,
   "metadata": {},
   "outputs": [],
   "source": [
    "corpora = []\n",
    "for link in links:\n",
    "    response = requests.get(link)\n",
    "    soup = BeautifulSoup(response.content, \"html.parser\")\n",
    "    parent = soup.find(\"div\", {\"id\":\"content-area\"})\n",
    "    paragraphs = parent.find_all(\"p\")\n",
    "    for p in paragraphs:\n",
    "        text = p.get_text(separator=\" \")\n",
    "        text = text.replace(\"’\", \"'\")\n",
    "        text = text.replace(\"‘\", \"'\")\n",
    "        corpora.append(text)\n",
    "    break"
   ]
  },
  {
   "cell_type": "code",
   "execution_count": 99,
   "metadata": {},
   "outputs": [],
   "source": [
    "f = open(\"preprocessed.txt\", \"a\")\n",
    "# TODO: fix special characters problem\n",
    "for line in corpora:\n",
    "    f.write(line + \"\\n\")\n",
    "f.close()"
   ]
  }
 ],
 "metadata": {
  "kernelspec": {
   "display_name": "Python 3",
   "language": "python",
   "name": "python3"
  },
  "language_info": {
   "codemirror_mode": {
    "name": "ipython",
    "version": 3
   },
   "file_extension": ".py",
   "mimetype": "text/x-python",
   "name": "python",
   "nbconvert_exporter": "python",
   "pygments_lexer": "ipython3",
   "version": "3.11.0"
  },
  "orig_nbformat": 4,
  "vscode": {
   "interpreter": {
    "hash": "c261aea317cc0286b3b3261fbba9abdec21eaa57589985bb7a274bf54d6cc0a7"
   }
  }
 },
 "nbformat": 4,
 "nbformat_minor": 2
}

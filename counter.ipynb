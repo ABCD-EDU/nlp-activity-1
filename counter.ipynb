{
 "cells": [
  {
   "cell_type": "code",
   "execution_count": 1,
   "metadata": {},
   "outputs": [],
   "source": [
    "import re\n",
    "import pandas as pd"
   ]
  },
  {
   "cell_type": "code",
   "execution_count": 6,
   "metadata": {},
   "outputs": [],
   "source": [
    "def contains_number(inputString):\n",
    "    return bool(re.search(r'\\d', inputString))\n",
    "\n",
    "def readFile(file:str):\n",
    "    lines = []\n",
    "    with open(file) as f:\n",
    "        for line in f:\n",
    "            if line != \"\\n\":\n",
    "                lines.append(line.strip().lower())\n",
    "    return lines\n",
    "\n",
    "def getWordCounts(lines):\n",
    "    total_words = 0\n",
    "    word_count = {}\n",
    "    for line in lines:\n",
    "        for word in line.split(\" \"):\n",
    "            if contains_number(word) or len(word) == 0:\n",
    "                continue\n",
    "            word = word.lower()\n",
    "            total_words += 1\n",
    "            if word not in word_count:\n",
    "                word_count[word] = 1\n",
    "            elif word in word_count:\n",
    "                word_count[word] += 1\n",
    "    return {\n",
    "        \"word_counts\": sorted(word_count.items(), key=lambda x:x[1])[::-1],\n",
    "        \"total_words\": total_words\n",
    "    }"
   ]
  },
  {
   "cell_type": "code",
   "execution_count": 3,
   "metadata": {},
   "outputs": [],
   "source": [
    "dataset = {\n",
    "    \"NEWS\": {\n",
    "        \"dir\": \"./news\",\n",
    "        \"corpora_path\": \"./news/news.txt\",\n",
    "        \"name\": \"news\"\n",
    "    },\n",
    "    \"BIBLE\": {\n",
    "        \"dir\": \"./bible\",\n",
    "        \"corpora_path\": \"./bible/preprocessed/preprocessed_text.txt\",\n",
    "        \"name\": \"bible\"\n",
    "    },\n",
    "    \"WIKI_TL\": {\n",
    "        \"dir\": \"./wiki_tl\",\n",
    "        \"corpora_path\": \"./wiki_tl/preprocessed_wiki_tl.txt\",\n",
    "        \"name\": \"wiki_tagalog\"\n",
    "    },\n",
    "    \"HISTORICAL\": {\n",
    "        \"dir\": \"./historical\",\n",
    "        \"corpora_path\": \"./historical/hist-preprocessed.txt\",\n",
    "        \"name\": \"historical\"\n",
    "    },\n",
    "    \"SONGS\": {\n",
    "        \"dir\": \"./songs\",\n",
    "        \"corpora_path\": \"./songs/preprocessed.txt\",\n",
    "        \"name\": \"songs\"\n",
    "    }\n",
    "}"
   ]
  },
  {
   "cell_type": "code",
   "execution_count": 4,
   "metadata": {},
   "outputs": [
    {
     "name": "stdout",
     "output_type": "stream",
     "text": [
      "NEWS = total:50022 unique:6869\n",
      "BIBLE = total:842952 unique:24599\n",
      "WIKI_TL = total:51717709 unique:240130\n",
      "HISTORICAL = total:21629 unique:3976\n",
      "SONGS = total:77786 unique:3550\n"
     ]
    }
   ],
   "source": [
    "corpora_lines = []\n",
    "for key in dataset.keys():\n",
    "    # corpus level\n",
    "    corpus = dataset[key]\n",
    "    lines = readFile(corpus[\"corpora_path\"])\n",
    "    corpora_lines.extend(lines)\n",
    "    wordcount_data = getWordCounts(lines)\n",
    "    wordcounts = wordcount_data[\"word_counts\"]\n",
    "    total_words = wordcount_data[\"total_words\"]\n",
    "    print(f\"{key} = total:{total_words} unique:{len(wordcounts)}\")\n",
    "\n",
    "    df = pd.DataFrame(wordcounts, columns =['words', 'count'])\n",
    "    df.to_csv(\"wordcounts\" + \"/\" +corpus[\"name\"] + \"_wordcounts.csv\", index=0)"
   ]
  },
  {
   "cell_type": "code",
   "execution_count": 5,
   "metadata": {},
   "outputs": [
    {
     "name": "stdout",
     "output_type": "stream",
     "text": [
      "CORPORA = total:52710098 unique:256119\n"
     ]
    }
   ],
   "source": [
    "# corpora level\n",
    "wordcount_data = getWordCounts(corpora_lines)\n",
    "wordcounts = wordcount_data[\"word_counts\"]\n",
    "total_words = wordcount_data[\"total_words\"]\n",
    "\n",
    "print(f\"CORPORA = total:{total_words} unique:{len(wordcounts)}\")\n",
    "master_df = pd.DataFrame(wordcounts, columns =['words', 'count'])\n",
    "master_df.to_csv(\"master_wordcounts.csv\", index=0)"
   ]
  }
 ],
 "metadata": {
  "kernelspec": {
   "display_name": "Python 3",
   "language": "python",
   "name": "python3"
  },
  "language_info": {
   "codemirror_mode": {
    "name": "ipython",
    "version": 3
   },
   "file_extension": ".py",
   "mimetype": "text/x-python",
   "name": "python",
   "nbconvert_exporter": "python",
   "pygments_lexer": "ipython3",
   "version": "3.11.0"
  },
  "orig_nbformat": 4,
  "vscode": {
   "interpreter": {
    "hash": "c261aea317cc0286b3b3261fbba9abdec21eaa57589985bb7a274bf54d6cc0a7"
   }
  }
 },
 "nbformat": 4,
 "nbformat_minor": 2
}

{
 "cells": [
  {
   "cell_type": "code",
   "execution_count": 1,
   "metadata": {},
   "outputs": [
    {
     "name": "stdout",
     "output_type": "stream",
     "text": [
      "Error extracting from https://tagalog.pinoydictionary.com/list/f/\n",
      "Error extracting from https://tagalog.pinoydictionary.com/list/c/2/\n",
      "Error extracting from https://tagalog.pinoydictionary.com/list/j/2/\n",
      "Error extracting from https://tagalog.pinoydictionary.com/list/e/31/\n",
      "Error extracting from https://tagalog.pinoydictionary.com/list/g/51/\n",
      "Error extracting from https://tagalog.pinoydictionary.com/list/o/13/\n",
      "Error extracting from https://tagalog.pinoydictionary.com/list/h/79/\n",
      "Error extracting from https://tagalog.pinoydictionary.com/list/q/\n",
      "Error extracting from https://tagalog.pinoydictionary.com/list/a/89/\n",
      "Error extracting from https://tagalog.pinoydictionary.com/list/n/63/\n",
      "Error extracting from https://tagalog.pinoydictionary.com/list/d/95/\n",
      "Error extracting from https://tagalog.pinoydictionary.com/list/l/102/\n",
      "Error extracting from https://tagalog.pinoydictionary.com/list/r/27/\n",
      "Error extracting from https://tagalog.pinoydictionary.com/list/v/\n",
      "Error extracting from https://tagalog.pinoydictionary.com/list/x/2/\n",
      "Error extracting from https://tagalog.pinoydictionary.com/list/i/118/\n",
      "Error extracting from https://tagalog.pinoydictionary.com/list/z/2/\n",
      "Error extracting from https://tagalog.pinoydictionary.com/list/y/10/\n",
      "Error extracting from https://tagalog.pinoydictionary.com/list/w/22/\n",
      "Error extracting from https://tagalog.pinoydictionary.com/list/u/41/\n",
      "Error extracting from https://tagalog.pinoydictionary.com/list/b/150/\n",
      "Error extracting from https://tagalog.pinoydictionary.com/list/k/226/\n",
      "Error extracting from https://tagalog.pinoydictionary.com/list/s/147/\n",
      "Error extracting from https://tagalog.pinoydictionary.com/list/t/143/\n",
      "Error extracting from https://tagalog.pinoydictionary.com/list/m/445/\n",
      "Error extracting from https://tagalog.pinoydictionary.com/list/p/464/\n"
     ]
    }
   ],
   "source": [
    "import requests\n",
    "from bs4 import BeautifulSoup\n",
    "import concurrent.futures\n",
    "\n",
    "headers = {'User-Agent': 'Mozilla/5.0'}\n",
    "\n",
    "def scrape_letter(letter):\n",
    "    page_index = 1\n",
    "    words = []\n",
    "    while True:\n",
    "        try:\n",
    "            url = f'https://tagalog.pinoydictionary.com/list/{letter}/{page_index}/'\n",
    "            if page_index == 1:\n",
    "               url = f'https://tagalog.pinoydictionary.com/list/{letter}/'\n",
    "            response = requests.get(url, headers=headers)\n",
    "            response.raise_for_status()\n",
    "            html = response.text\n",
    "        except requests.exceptions.HTTPError:\n",
    "            print(f'Error extracting from {url}')\n",
    "            break\n",
    "        raw = BeautifulSoup(html, 'html.parser')\n",
    "        word_groups = raw.find_all('div', {'class': 'word-group'})\n",
    "        if not word_groups:\n",
    "            print(f'Done extracting from {url}')\n",
    "            break\n",
    "        for word_group in word_groups:\n",
    "            word_entry = word_group.find('h2', {'class': 'word-entry'})\n",
    "            word = word_entry.find('a').text\n",
    "            words.append(word)\n",
    "        page_index += 1\n",
    "    with open('tagalog_dict.txt', 'a', encoding='utf-8') as f:\n",
    "        for word in words:\n",
    "            f.write(word + '\\n')\n",
    "\n",
    "if __name__ == '__main__':\n",
    "    with concurrent.futures.ThreadPoolExecutor(max_workers=10) as executor:\n",
    "        for letter in 'abcdefghijklmnopqrstuvwxyz':\n",
    "            executor.submit(scrape_letter, letter)\n",
    "\n"
   ]
  },
  {
   "cell_type": "code",
   "execution_count": 2,
   "metadata": {},
   "outputs": [
    {
     "ename": "NameError",
     "evalue": "name 'preprocess_word' is not defined",
     "output_type": "error",
     "traceback": [
      "\u001b[1;31m---------------------------------------------------------------------------\u001b[0m",
      "\u001b[1;31mNameError\u001b[0m                                 Traceback (most recent call last)",
      "\u001b[1;32m~\\AppData\\Local\\Temp/ipykernel_4572/330705140.py\u001b[0m in \u001b[0;36m<module>\u001b[1;34m\u001b[0m\n\u001b[0;32m     29\u001b[0m \u001b[1;33m\u001b[0m\u001b[0m\n\u001b[0;32m     30\u001b[0m \u001b[1;31m# Preprocess and sort words\u001b[0m\u001b[1;33m\u001b[0m\u001b[1;33m\u001b[0m\u001b[0m\n\u001b[1;32m---> 31\u001b[1;33m \u001b[0mwords\u001b[0m \u001b[1;33m=\u001b[0m \u001b[1;33m[\u001b[0m\u001b[0mpreprocess_word\u001b[0m\u001b[1;33m(\u001b[0m\u001b[0mword\u001b[0m\u001b[1;33m)\u001b[0m \u001b[1;32mfor\u001b[0m \u001b[0mword\u001b[0m \u001b[1;32min\u001b[0m \u001b[0mwords\u001b[0m\u001b[1;33m]\u001b[0m\u001b[1;33m\u001b[0m\u001b[1;33m\u001b[0m\u001b[0m\n\u001b[0m\u001b[0;32m     32\u001b[0m \u001b[0mwords\u001b[0m\u001b[1;33m.\u001b[0m\u001b[0msort\u001b[0m\u001b[1;33m(\u001b[0m\u001b[1;33m)\u001b[0m\u001b[1;33m\u001b[0m\u001b[1;33m\u001b[0m\u001b[0m\n\u001b[0;32m     33\u001b[0m \u001b[1;33m\u001b[0m\u001b[0m\n",
      "\u001b[1;32m~\\AppData\\Local\\Temp/ipykernel_4572/330705140.py\u001b[0m in \u001b[0;36m<listcomp>\u001b[1;34m(.0)\u001b[0m\n\u001b[0;32m     29\u001b[0m \u001b[1;33m\u001b[0m\u001b[0m\n\u001b[0;32m     30\u001b[0m \u001b[1;31m# Preprocess and sort words\u001b[0m\u001b[1;33m\u001b[0m\u001b[1;33m\u001b[0m\u001b[0m\n\u001b[1;32m---> 31\u001b[1;33m \u001b[0mwords\u001b[0m \u001b[1;33m=\u001b[0m \u001b[1;33m[\u001b[0m\u001b[0mpreprocess_word\u001b[0m\u001b[1;33m(\u001b[0m\u001b[0mword\u001b[0m\u001b[1;33m)\u001b[0m \u001b[1;32mfor\u001b[0m \u001b[0mword\u001b[0m \u001b[1;32min\u001b[0m \u001b[0mwords\u001b[0m\u001b[1;33m]\u001b[0m\u001b[1;33m\u001b[0m\u001b[1;33m\u001b[0m\u001b[0m\n\u001b[0m\u001b[0;32m     32\u001b[0m \u001b[0mwords\u001b[0m\u001b[1;33m.\u001b[0m\u001b[0msort\u001b[0m\u001b[1;33m(\u001b[0m\u001b[1;33m)\u001b[0m\u001b[1;33m\u001b[0m\u001b[1;33m\u001b[0m\u001b[0m\n\u001b[0;32m     33\u001b[0m \u001b[1;33m\u001b[0m\u001b[0m\n",
      "\u001b[1;31mNameError\u001b[0m: name 'preprocess_word' is not defined"
     ]
    }
   ],
   "source": [
    "import re\n",
    "\n",
    "def preprocess_text(text):\n",
    "    # Remove commas and replace with empty space\n",
    "    text = text.replace(',', '')\n",
    "\n",
    "    # Replace newlines with empty space\n",
    "    text = text.replace('\\n', ' ')\n",
    "\n",
    "    # Remove extra spaces\n",
    "    text = re.sub('\\s+', ' ', text)\n",
    "\n",
    "    # Convert to lowercase\n",
    "    text = text.lower()\n",
    "\n",
    "    # Remove non-alphabetic characters except for hyphens and apostrophes\n",
    "    text = re.sub('[^a-z\\-\\' ]', '', text)\n",
    "\n",
    "    # Sort words in alphabetical order\n",
    "    words = sorted(text.split())\n",
    "\n",
    "    # Join words into a single string separated by newlines\n",
    "    return '\\n'.join(words)\n",
    "\n",
    "\n",
    "# Read words from file\n",
    "with open('tagalog_dict.txt', 'r', encoding='utf-8') as f:\n",
    "    words = f.read().splitlines()\n",
    "\n",
    "# Preprocess and sort words\n",
    "words = [preprocess_word(word) for word in words]\n",
    "words.sort()\n",
    "\n",
    "# Write sorted words to file\n",
    "with open('tagalog_dict_sorted.txt', 'w', encoding='utf-8') as f:\n",
    "    for word in words:\n",
    "        f.write(word + '\\n')\n"
   ]
  }
 ],
 "metadata": {
  "kernelspec": {
   "display_name": "Python 3",
   "language": "python",
   "name": "python3"
  },
  "language_info": {
   "codemirror_mode": {
    "name": "ipython",
    "version": 3
   },
   "file_extension": ".py",
   "mimetype": "text/x-python",
   "name": "python",
   "nbconvert_exporter": "python",
   "pygments_lexer": "ipython3",
   "version": "3.9.7"
  },
  "orig_nbformat": 4,
  "vscode": {
   "interpreter": {
    "hash": "ad2bdc8ecc057115af97d19610ffacc2b4e99fae6737bb82f5d7fb13d2f2c186"
   }
  }
 },
 "nbformat": 4,
 "nbformat_minor": 2
}
